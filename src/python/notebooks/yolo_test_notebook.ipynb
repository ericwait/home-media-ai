{
 "cells": [
  {
   "cell_type": "markdown",
   "metadata": {},
   "source": [
    "# YOLO GPU Test & Image Analysis\n",
    "\n",
    "Test YOLO object detection with GPU acceleration on your test images."
   ]
  },
  {
   "cell_type": "code",
   "execution_count": null,
   "metadata": {},
   "outputs": [],
   "source": [
    "import torch\n",
    "from ultralytics import YOLO\n",
    "from pathlib import Path\n",
    "import matplotlib.pyplot as plt\n",
    "from PIL import Image\n",
    "import numpy as np\n",
    "\n",
    "# Verify GPU availability\n",
    "print(f\"PyTorch version: {torch.__version__}\")\n",
    "print(f\"CUDA available: {torch.cuda.is_available()}\")\n",
    "if torch.cuda.is_available():\n",
    "    print(f\"CUDA version: {torch.version.cuda}\")\n",
    "    print(f\"GPU device: {torch.cuda.get_device_name(0)}\")\n",
    "    print(f\"GPU memory: {torch.cuda.get_device_properties(0).total_memory / 1e9:.2f} GB\")"
   ]
  },
  {
   "cell_type": "code",
   "execution_count": null,
   "metadata": {},
   "outputs": [],
   "source": [
    "# Load YOLO model (will auto-download on first run)\n",
    "# Options: yolov8n, yolov8s, yolov8m, yolov8l, yolov8x (nano to extra-large)\n",
    "# Start with 'n' (nano) for quick testing\n",
    "model = YOLO('yolov8n.pt')\n",
    "\n",
    "# Verify model is on GPU\n",
    "device = 'cuda' if torch.cuda.is_available() else 'cpu'\n",
    "model.to(device)\n",
    "print(f\"Model loaded on: {device}\")"
   ]
  },
  {
   "cell_type": "code",
   "execution_count": null,
   "metadata": {},
   "outputs": [],
   "source": [
    "# Test on your fixture images\n",
    "test_images = [\n",
    "    \"../tests/fixtures/2024-10-11_12-19-49.jpg\",\n",
    "    \"../tests/fixtures/2024-10-11_12-19-50.dng\",\n",
    "    \"../tests/fixtures/2024-10-11_12-19-51.dng\"\n",
    "]\n",
    "\n",
    "for img_path in test_images:\n",
    "    if not Path(img_path).exists():\n",
    "        print(f\"Skipping {img_path} - file not found\")\n",
    "        continue\n",
    "    \n",
    "    print(f\"\\n{'='*60}\")\n",
    "    print(f\"Processing: {Path(img_path).name}\")\n",
    "    print('='*60)\n",
    "    \n",
    "    # Run inference\n",
    "    results = model(img_path, conf=0.25, device=device)\n",
    "    \n",
    "    # Display results\n",
    "    result = results[0]\n",
    "    print(f\"\\nDetected {len(result.boxes)} objects:\")\n",
    "    \n",
    "    for box in result.boxes:\n",
    "        cls = int(box.cls[0])\n",
    "        conf = float(box.conf[0])\n",
    "        name = result.names[cls]\n",
    "        print(f\"  - {name}: {conf:.2%} confidence\")\n",
    "    \n",
    "    # Plot with bounding boxes\n",
    "    plt.figure(figsize=(12, 8))\n",
    "    img_with_boxes = result.plot()\n",
    "    plt.imshow(img_with_boxes)\n",
    "    plt.axis('off')\n",
    "    plt.title(f\"{Path(img_path).name} - {len(result.boxes)} objects detected\")\n",
    "    plt.tight_layout()\n",
    "    plt.show()"
   ]
  },
  {
   "cell_type": "code",
   "execution_count": null,
   "metadata": {},
   "outputs": [],
   "source": [
    "# Performance benchmark\n",
    "import time\n",
    "\n",
    "test_img = \"../tests/fixtures/2024-10-11_12-19-49.jpg\"\n",
    "n_runs = 10\n",
    "\n",
    "times = []\n",
    "for i in range(n_runs):\n",
    "    start = time.time()\n",
    "    _ = model(test_img, device=device, verbose=False)\n",
    "    times.append(time.time() - start)\n",
    "\n",
    "print(f\"\\nGPU Performance Benchmark ({n_runs} runs):\")\n",
    "print(f\"  Mean: {np.mean(times)*1000:.1f} ms\")\n",
    "print(f\"  Std:  {np.std(times)*1000:.1f} ms\")\n",
    "print(f\"  Min:  {np.min(times)*1000:.1f} ms\")\n",
    "print(f\"  Max:  {np.max(times)*1000:.1f} ms\")"
   ]
  },
  {
   "cell_type": "markdown",
   "metadata": {},
   "source": [
    "## Custom Object Detection\n",
    "\n",
    "YOLO can detect specific classes you care about.\n",
    "Filter for nature/plant-related objects:"
   ]
  },
  {
   "cell_type": "code",
   "execution_count": null,
   "metadata": {},
   "outputs": [],
   "source": [
    "# Nature-related classes in COCO dataset\n",
    "nature_classes = {\n",
    "    'bird', 'cat', 'dog', 'horse', 'sheep', 'cow', 'elephant', 'bear', \n",
    "    'zebra', 'giraffe', 'potted plant', 'flower', 'tree', 'mushroom'\n",
    "}\n",
    "\n",
    "test_img = \"../tests/fixtures/2024-10-11_12-19-49.jpg\"\n",
    "results = model(test_img, conf=0.25, device=device)\n",
    "result = results[0]\n",
    "\n",
    "print(\"Nature-related detections:\")\n",
    "found_nature = False\n",
    "for box in result.boxes:\n",
    "    cls = int(box.cls[0])\n",
    "    name = result.names[cls]\n",
    "    if name.lower() in nature_classes:\n",
    "        conf = float(box.conf[0])\n",
    "        print(f\"  - {name}: {conf:.2%}\")\n",
    "        found_nature = True\n",
    "\n",
    "if not found_nature:\n",
    "    print(\"  (No nature objects detected)\")"
   ]
  },
  {
   "cell_type": "markdown",
   "metadata": {},
   "source": [
    "## Integration Ideas\n",
    "\n",
    "**For Your Project:**\n",
    "- Auto-tag images based on detected objects\n",
    "- Filter images containing specific subjects (plants, animals, people)\n",
    "- Quality scoring based on composition (rule of thirds, subject placement)\n",
    "- Scene understanding to complement your taxonomy links"
   ]
  }
 ],
 "metadata": {
  "kernelspec": {
   "display_name": "Python 3 (ipykernel)",
   "language": "python",
   "name": "python3"
  },
  "language_info": {
   "codemirror_mode": {
    "name": "ipython",
    "version": 3
   },
   "file_extension": ".py",
   "mimetype": "text/x-python",
   "name": "python",
   "nbconvert_exporter": "python",
   "pygments_lexer": "ipython3",
   "version": "3.12.11"
  }
 },
 "nbformat": 4,
 "nbformat_minor": 4
}
