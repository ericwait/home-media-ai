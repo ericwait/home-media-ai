{
 "cells": [
  {
   "cell_type": "code",
   "execution_count": null,
   "id": "6c574c57",
   "metadata": {
    "editable": true,
    "slideshow": {
     "slide_type": ""
    },
    "tags": []
   },
   "outputs": [],
   "source": [
    "import os\n",
    "import sys\n",
    "from pathlib import Path\n",
    "\n",
    "# Database\n",
    "from sqlalchemy import create_engine, text\n",
    "from sqlalchemy.orm import sessionmaker\n",
    "\n",
    "# Visualization\n",
    "import matplotlib.pyplot as plt\n",
    "import seaborn as sns\n",
    "\n",
    "# Image processing\n",
    "import rawpy\n",
    "import numpy as np\n",
    "from skimage.transform import rescale\n",
    "\n",
    "# Add project to path\n",
    "sys.path.insert(0, str(Path.cwd().parent))\n",
    "from home_media_ai.models import Media, MediaType\n",
    "from home_media_ai.exif_extractor import ExifExtractor\n",
    "from home_media_ai.media_query import MediaQuery\n",
    "\n",
    "import HIP\n",
    "\n",
    "# Configure plotting\n",
    "plt.style.use('seaborn-v0_8-darkgrid')\n",
    "sns.set_palette('husl')\n",
    "%matplotlib inline\n"
   ]
  },
  {
   "cell_type": "code",
   "execution_count": null,
   "id": "8395253d-b513-4fd6-ae9c-bf9ab4a02371",
   "metadata": {},
   "outputs": [],
   "source": []
  },
  {
   "cell_type": "markdown",
   "id": "bcc0adc8",
   "metadata": {
    "editable": true,
    "slideshow": {
     "slide_type": ""
    },
    "tags": []
   },
   "source": [
    "## Connect"
   ]
  },
  {
   "cell_type": "code",
   "execution_count": null,
   "id": "05af48b2",
   "metadata": {
    "editable": true,
    "slideshow": {
     "slide_type": ""
    },
    "tags": []
   },
   "outputs": [],
   "source": [
    "# Database connection\n",
    "DATABASE_URI = os.getenv('HOME_MEDIA_AI_URI')\n",
    "if not DATABASE_URI:\n",
    "    raise ValueError(\"Set HOME_MEDIA_AI_URI environment variable\")\n",
    "\n",
    "engine = create_engine(DATABASE_URI)\n",
    "Session = sessionmaker(bind=engine)\n",
    "session = Session()\n",
    "\n",
    "print(f\"✓ Connected to database: {engine.url.database}\")\n",
    "\n",
    "query = MediaQuery(session)\n"
   ]
  },
  {
   "cell_type": "markdown",
   "id": "eb8fb797",
   "metadata": {
    "editable": true,
    "slideshow": {
     "slide_type": ""
    },
    "tags": []
   },
   "source": [
    "## Learn"
   ]
  },
  {
   "cell_type": "code",
   "execution_count": null,
   "id": "7172e79c-e1e9-4e43-9563-32424f80e529",
   "metadata": {},
   "outputs": [],
   "source": [
    "images = query.canon().raw().rating_min(4).year(2024).all()\n",
    "print(len(images))\n"
   ]
  },
  {
   "cell_type": "code",
   "execution_count": null,
   "id": "b9011308",
   "metadata": {
    "editable": true,
    "slideshow": {
     "slide_type": ""
    },
    "tags": []
   },
   "outputs": [],
   "source": [
    "with rawpy.imread(images[0].file_path) as raw:\n",
    "    # Process RAW to RGB\n",
    "    # use_camera_wb=True uses camera white balance\n",
    "    # output_bps=8 for 8-bit, output_bps=16 for 16-bit\n",
    "    rgb = raw.postprocess(\n",
    "        use_camera_wb=True,\n",
    "        output_bps=16,  # Keep 16-bit for quality\n",
    "        no_auto_bright=False,\n",
    "        output_color=rawpy.ColorSpace.sRGB,\n",
    "    )\n",
    "\n",
    "print(type(rgb))\n",
    "print(f\"Image shape: {rgb.shape}\")\n",
    "print(f\"Data type: {rgb.dtype}\")\n",
    "print(f\"Memory: {rgb.nbytes / 1024**2:.1f} MB\")\n",
    "\n",
    "# Rescale for display\n",
    "rgb_small = rescale(rgb, 0.25, channel_axis=2)  # 25% of original size\n",
    "rgb_display = rgb_small / 65535.0\n",
    "\n",
    "print(type(rgb_display))\n",
    "print(f\"Image shape: {rgb_display.shape}\")\n",
    "print(f\"Data type: {rgb_display.dtype}\")\n",
    "print(f\"Memory: {rgb_display.nbytes / 1024**2:.1f} MB\")\n"
   ]
  },
  {
   "cell_type": "code",
   "execution_count": null,
   "id": "583a40ca",
   "metadata": {
    "editable": true,
    "slideshow": {
     "slide_type": ""
    },
    "tags": []
   },
   "outputs": [],
   "source": [
    "# Instead of subplots\n",
    "try:\n",
    "    fig1 = plt.figure(figsize=(8, 8))\n",
    "    plt.imshow(rgb / 65535.0)\n",
    "    plt.axis('off')\n",
    "    plt.show()\n",
    "except Exception as e:\n",
    "    print(f\"Error: {e}\")\n",
    "# Then separately\n",
    "fig2 = plt.figure(figsize=(8, 8))\n",
    "for i, color in enumerate(['r', 'g', 'b']):\n",
    "    plt.hist(rgb[:,:,i].flatten(), bins=256, range=(0, 65535),\n",
    "             color=color, alpha=0.5, label=color.upper())\n",
    "plt.legend()\n",
    "plt.show()\n"
   ]
  },
  {
   "cell_type": "markdown",
   "id": "36734331",
   "metadata": {
    "editable": true,
    "jp-MarkdownHeadingCollapsed": true,
    "slideshow": {
     "slide_type": ""
    },
    "tags": []
   },
   "source": [
    "## Cleanup!"
   ]
  },
  {
   "cell_type": "code",
   "execution_count": null,
   "id": "f77f62d4",
   "metadata": {
    "editable": true,
    "slideshow": {
     "slide_type": ""
    },
    "tags": []
   },
   "outputs": [],
   "source": [
    "# Close database connection\n",
    "session.close()\n",
    "print(\"✓ Database connection closed\")\n"
   ]
  },
  {
   "cell_type": "code",
   "execution_count": null,
   "id": "9f6a6650-1562-44d1-b2d7-486b83bbd09e",
   "metadata": {
    "editable": true,
    "slideshow": {
     "slide_type": ""
    },
    "tags": []
   },
   "outputs": [],
   "source": []
  }
 ],
 "metadata": {
  "kernelspec": {
   "display_name": "Python 3 (ipykernel)",
   "language": "python",
   "name": "python3"
  },
  "language_info": {
   "codemirror_mode": {
    "name": "ipython",
    "version": 3
   },
   "file_extension": ".py",
   "mimetype": "text/x-python",
   "name": "python",
   "nbconvert_exporter": "python",
   "pygments_lexer": "ipython3",
   "version": "3.12.11"
  }
 },
 "nbformat": 4,
 "nbformat_minor": 5
}
